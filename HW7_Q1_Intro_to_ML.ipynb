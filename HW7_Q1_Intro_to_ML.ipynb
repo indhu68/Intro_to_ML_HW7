{
  "cells": [
    {
      "cell_type": "markdown",
      "metadata": {
        "id": "view-in-github",
        "colab_type": "text"
      },
      "source": [
        "<a href=\"https://colab.research.google.com/github/indhu68/Intro_to_ML_HW7/blob/main/HW7_Q1_Intro_to_ML.ipynb\" target=\"_parent\"><img src=\"https://colab.research.google.com/assets/colab-badge.svg\" alt=\"Open In Colab\"/></a>"
      ]
    },
    {
      "cell_type": "markdown",
      "source": [
        "                       Introduction to Machine Learning\n",
        "                              Homework 7\n",
        "\n",
        "Name : Indhuja Gudluru\n",
        "\n",
        "Student ID : 801366046\n"
      ],
      "metadata": {
        "id": "iVfK4NlM4SKk"
      }
    },
    {
      "cell_type": "code",
      "source": [
        "\n",
        "!pip install ipython-autotime\n",
        "%load_ext autotime"
      ],
      "metadata": {
        "colab": {
          "base_uri": "https://localhost:8080/"
        },
        "id": "32-MFBnE4oi6",
        "outputId": "73bfb8ee-7baf-4610-a875-62c039e8dcdd"
      },
      "execution_count": 2,
      "outputs": [
        {
          "output_type": "stream",
          "name": "stdout",
          "text": [
            "Collecting ipython-autotime\n",
            "  Downloading ipython_autotime-0.3.2-py2.py3-none-any.whl (7.0 kB)\n",
            "Requirement already satisfied: ipython in /usr/local/lib/python3.10/dist-packages (from ipython-autotime) (7.34.0)\n",
            "Requirement already satisfied: setuptools>=18.5 in /usr/local/lib/python3.10/dist-packages (from ipython->ipython-autotime) (67.7.2)\n",
            "Collecting jedi>=0.16 (from ipython->ipython-autotime)\n",
            "  Downloading jedi-0.19.1-py2.py3-none-any.whl (1.6 MB)\n",
            "\u001b[2K     \u001b[90m━━━━━━━━━━━━━━━━━━━━━━━━━━━━━━━━━━━━━━━━\u001b[0m \u001b[32m1.6/1.6 MB\u001b[0m \u001b[31m1.4 MB/s\u001b[0m eta \u001b[36m0:00:00\u001b[0m\n",
            "\u001b[?25hRequirement already satisfied: decorator in /usr/local/lib/python3.10/dist-packages (from ipython->ipython-autotime) (4.4.2)\n",
            "Requirement already satisfied: pickleshare in /usr/local/lib/python3.10/dist-packages (from ipython->ipython-autotime) (0.7.5)\n",
            "Requirement already satisfied: traitlets>=4.2 in /usr/local/lib/python3.10/dist-packages (from ipython->ipython-autotime) (5.7.1)\n",
            "Requirement already satisfied: prompt-toolkit!=3.0.0,!=3.0.1,<3.1.0,>=2.0.0 in /usr/local/lib/python3.10/dist-packages (from ipython->ipython-autotime) (3.0.41)\n",
            "Requirement already satisfied: pygments in /usr/local/lib/python3.10/dist-packages (from ipython->ipython-autotime) (2.16.1)\n",
            "Requirement already satisfied: backcall in /usr/local/lib/python3.10/dist-packages (from ipython->ipython-autotime) (0.2.0)\n",
            "Requirement already satisfied: matplotlib-inline in /usr/local/lib/python3.10/dist-packages (from ipython->ipython-autotime) (0.1.6)\n",
            "Requirement already satisfied: pexpect>4.3 in /usr/local/lib/python3.10/dist-packages (from ipython->ipython-autotime) (4.9.0)\n",
            "Requirement already satisfied: parso<0.9.0,>=0.8.3 in /usr/local/lib/python3.10/dist-packages (from jedi>=0.16->ipython->ipython-autotime) (0.8.3)\n",
            "Requirement already satisfied: ptyprocess>=0.5 in /usr/local/lib/python3.10/dist-packages (from pexpect>4.3->ipython->ipython-autotime) (0.7.0)\n",
            "Requirement already satisfied: wcwidth in /usr/local/lib/python3.10/dist-packages (from prompt-toolkit!=3.0.0,!=3.0.1,<3.1.0,>=2.0.0->ipython->ipython-autotime) (0.2.12)\n",
            "Installing collected packages: jedi, ipython-autotime\n",
            "Successfully installed ipython-autotime-0.3.2 jedi-0.19.1\n",
            "time: 362 µs (started: 2023-12-13 10:02:47 +00:00)\n"
          ]
        }
      ]
    },
    {
      "cell_type": "code",
      "source": [
        "import os\n",
        "import torch\n",
        "import torch.nn as nn\n",
        "import torch.optim as optim\n",
        "from torch.utils.data import DataLoader, TensorDataset\n",
        "from torchvision import datasets, transforms\n",
        "from sklearn.model_selection import train_test_split\n",
        "from sklearn.preprocessing import StandardScaler\n",
        "import pandas as pd\n",
        "import numpy as np\n",
        "import matplotlib.pyplot as plt\n",
        "from sklearn.metrics import precision_score, recall_score, accuracy_score, confusion_matrix, classification_report\n",
        "import seaborn as sns\n",
        "\n",
        "torch.set_printoptions(edgeitems=2)\n",
        "torch.manual_seed(123)\n",
        "np.random.seed(123)\n",
        ""
      ],
      "metadata": {
        "colab": {
          "base_uri": "https://localhost:8080/"
        },
        "id": "zUjCK_uC6Npo",
        "outputId": "1a47fe4f-c11c-4524-b64c-ad813e31fdb4"
      },
      "execution_count": 3,
      "outputs": [
        {
          "output_type": "stream",
          "name": "stdout",
          "text": [
            "time: 10.9 s (started: 2023-12-13 10:02:47 +00:00)\n"
          ]
        }
      ]
    },
    {
      "cell_type": "code",
      "source": [
        "# Set device\n",
        "device = torch.device(\"cuda\" if torch.cuda.is_available() else \"cpu\")\n",
        "device"
      ],
      "metadata": {
        "colab": {
          "base_uri": "https://localhost:8080/"
        },
        "id": "69_BqOL26YK5",
        "outputId": "abc0a49e-b47c-45ab-9407-3bdc01a5da81"
      },
      "execution_count": 4,
      "outputs": [
        {
          "output_type": "execute_result",
          "data": {
            "text/plain": [
              "device(type='cuda')"
            ]
          },
          "metadata": {},
          "execution_count": 4
        },
        {
          "output_type": "stream",
          "name": "stdout",
          "text": [
            "time: 83.2 ms (started: 2023-12-13 10:03:03 +00:00)\n"
          ]
        }
      ]
    },
    {
      "cell_type": "code",
      "source": [
        "\n",
        "training_dataset = datasets.CIFAR10(root='./data', train=True, download=True, transform=transforms.ToTensor())\n",
        "\n",
        "# Calculating mean and standard(std)\n",
        "images = torch.stack([img_t for img_t, _ in training_dataset], dim=3)\n",
        "mean = images.view(3, -1).mean(dim=1)\n",
        "std = images.view(3, -1).std(dim=1)"
      ],
      "metadata": {
        "colab": {
          "base_uri": "https://localhost:8080/"
        },
        "id": "nhwtDvIo6gbz",
        "outputId": "6dca6ff5-4a66-4fe2-c004-f0f96183d0a8"
      },
      "execution_count": 5,
      "outputs": [
        {
          "output_type": "stream",
          "name": "stdout",
          "text": [
            "Downloading https://www.cs.toronto.edu/~kriz/cifar-10-python.tar.gz to ./data/cifar-10-python.tar.gz\n"
          ]
        },
        {
          "output_type": "stream",
          "name": "stderr",
          "text": [
            "100%|██████████| 170498071/170498071 [00:04<00:00, 39956555.91it/s]\n"
          ]
        },
        {
          "output_type": "stream",
          "name": "stdout",
          "text": [
            "Extracting ./data/cifar-10-python.tar.gz to ./data\n",
            "time: 20.5 s (started: 2023-12-13 10:03:09 +00:00)\n"
          ]
        }
      ]
    },
    {
      "cell_type": "code",
      "source": [
        "mean"
      ],
      "metadata": {
        "colab": {
          "base_uri": "https://localhost:8080/"
        },
        "id": "rdchCykL61a6",
        "outputId": "0c3b1306-7b81-4917-fdf6-539ec26e15db"
      },
      "execution_count": 6,
      "outputs": [
        {
          "output_type": "execute_result",
          "data": {
            "text/plain": [
              "tensor([0.4914, 0.4822, 0.4465])"
            ]
          },
          "metadata": {},
          "execution_count": 6
        },
        {
          "output_type": "stream",
          "name": "stdout",
          "text": [
            "time: 26.1 ms (started: 2023-12-13 10:03:29 +00:00)\n"
          ]
        }
      ]
    },
    {
      "cell_type": "code",
      "source": [
        "std"
      ],
      "metadata": {
        "colab": {
          "base_uri": "https://localhost:8080/"
        },
        "id": "aL0bkUEo63za",
        "outputId": "450bb38a-6d61-4ead-a2cc-bf9dbe7b42fe"
      },
      "execution_count": 7,
      "outputs": [
        {
          "output_type": "execute_result",
          "data": {
            "text/plain": [
              "tensor([0.2470, 0.2435, 0.2616])"
            ]
          },
          "metadata": {},
          "execution_count": 7
        },
        {
          "output_type": "stream",
          "name": "stdout",
          "text": [
            "time: 3.66 ms (started: 2023-12-13 10:03:32 +00:00)\n"
          ]
        }
      ]
    },
    {
      "cell_type": "code",
      "source": [
        "cifar10 = datasets.CIFAR10(\n",
        "    './data', train=True, download=False,\n",
        "    transform=transforms.Compose([\n",
        "        transforms.ToTensor(),\n",
        "        transforms.Normalize((0.4914, 0.4822, 0.4465),\n",
        "                             (0.2470, 0.2435, 0.2616))\n",
        "    ]))\n"
      ],
      "metadata": {
        "colab": {
          "base_uri": "https://localhost:8080/"
        },
        "id": "kuAmdl7i68Ag",
        "outputId": "a343ac49-84d3-45d1-8444-e5e701da6384"
      },
      "execution_count": 8,
      "outputs": [
        {
          "output_type": "stream",
          "name": "stdout",
          "text": [
            "time: 476 ms (started: 2023-12-13 10:03:36 +00:00)\n"
          ]
        }
      ]
    },
    {
      "cell_type": "code",
      "source": [
        "cifar10_testing = datasets.CIFAR10(\n",
        "     './data', train=False, download=False,\n",
        "    transform=transforms.Compose([\n",
        "        transforms.ToTensor(),\n",
        "        transforms.Normalize((0.4914, 0.4822, 0.4465),\n",
        "                             (0.2470, 0.2435, 0.2616))\n",
        "    ]))\n"
      ],
      "metadata": {
        "colab": {
          "base_uri": "https://localhost:8080/"
        },
        "id": "XY7JqrSo7AbL",
        "outputId": "49e4ce8b-a486-4668-f2fc-3e05533c0601"
      },
      "execution_count": 9,
      "outputs": [
        {
          "output_type": "stream",
          "name": "stdout",
          "text": [
            "time: 356 ms (started: 2023-12-13 10:03:41 +00:00)\n"
          ]
        }
      ]
    },
    {
      "cell_type": "code",
      "source": [
        "\n",
        "image1, label = cifar10[0]\n",
        "print(image1.shape)"
      ],
      "metadata": {
        "colab": {
          "base_uri": "https://localhost:8080/"
        },
        "id": "WNSR3oCp7DLt",
        "outputId": "24991c06-9cf0-4190-d32b-1f4e307ecb53"
      },
      "execution_count": 10,
      "outputs": [
        {
          "output_type": "stream",
          "name": "stdout",
          "text": [
            "torch.Size([3, 32, 32])\n",
            "time: 9.5 ms (started: 2023-12-13 10:03:45 +00:00)\n"
          ]
        }
      ]
    },
    {
      "cell_type": "code",
      "source": [
        "training_loader = DataLoader(cifar10, batch_size=32, shuffle=True, num_workers=2)\n",
        "testing_loader = DataLoader(cifar10_testing, batch_size=32, shuffle=False, num_workers=2)"
      ],
      "metadata": {
        "colab": {
          "base_uri": "https://localhost:8080/"
        },
        "id": "rX40sIus7IuE",
        "outputId": "26ef4317-446c-46c3-cd80-9350bba87bd8"
      },
      "execution_count": 11,
      "outputs": [
        {
          "output_type": "stream",
          "name": "stdout",
          "text": [
            "time: 988 µs (started: 2023-12-13 10:03:47 +00:00)\n"
          ]
        }
      ]
    },
    {
      "cell_type": "code",
      "source": [
        "class_names = ['airplane','automobile','bird','cat','deer','dog','frog','horse','ship','truck']"
      ],
      "metadata": {
        "colab": {
          "base_uri": "https://localhost:8080/"
        },
        "id": "VDPsB9eg7OlP",
        "outputId": "229d6d8b-cbee-40be-8ab3-d667bf654fbb"
      },
      "execution_count": 12,
      "outputs": [
        {
          "output_type": "stream",
          "name": "stdout",
          "text": [
            "time: 476 µs (started: 2023-12-13 10:03:50 +00:00)\n"
          ]
        }
      ]
    },
    {
      "cell_type": "markdown",
      "source": [
        "Problem : 1)a)"
      ],
      "metadata": {
        "id": "61eYFVIf7QfI"
      }
    },
    {
      "cell_type": "code",
      "source": [
        "class Net(nn.Module):\n",
        "    def __init__(self):\n",
        "        super().__init__()\n",
        "        self.conv1 = nn.Conv2d(3, 16, kernel_size=3, padding=1)\n",
        "        self.act1 = nn.Tanh()\n",
        "        self.pool1 = nn.MaxPool2d(2)\n",
        "        self.conv2 = nn.Conv2d(16, 8, kernel_size=3, padding=1)\n",
        "        self.act2 = nn.Tanh()\n",
        "        self.pool2 = nn.MaxPool2d(2)\n",
        "        self.fc1 = nn.Linear(8 * 8 * 8, 32)\n",
        "        self.act3 = nn.Tanh()\n",
        "        self.fc2 = nn.Linear(32, 10)\n",
        "\n",
        "    def forward(self, x):\n",
        "        out = self.pool1(self.act1(self.conv1(x)))\n",
        "        out = self.pool2(self.act2(self.conv2(out)))\n",
        "        out = out.view(-1, 8 * 8 * 8) # <1>\n",
        "        out = self.act3(self.fc1(out))\n",
        "        out = self.fc2(out)\n",
        "        return out"
      ],
      "metadata": {
        "colab": {
          "base_uri": "https://localhost:8080/"
        },
        "id": "4JalR2gs7TiC",
        "outputId": "3e698148-5cc6-43b4-d2af-a3ecd5853a18"
      },
      "execution_count": 13,
      "outputs": [
        {
          "output_type": "stream",
          "name": "stdout",
          "text": [
            "time: 1.66 ms (started: 2023-12-13 10:03:53 +00:00)\n"
          ]
        }
      ]
    },
    {
      "cell_type": "code",
      "source": [
        "\n",
        "model = Net().to(device)"
      ],
      "metadata": {
        "colab": {
          "base_uri": "https://localhost:8080/"
        },
        "id": "Gn5oyWwh7b5V",
        "outputId": "08a3c11a-58a5-4aad-c0f7-c06dc609fd7a"
      },
      "execution_count": 14,
      "outputs": [
        {
          "output_type": "stream",
          "name": "stdout",
          "text": [
            "time: 5.91 s (started: 2023-12-13 10:03:55 +00:00)\n"
          ]
        }
      ]
    },
    {
      "cell_type": "code",
      "source": [
        "numel_list = [p.numel() for p in model.parameters()]\n",
        "sum(numel_list), numel_list"
      ],
      "metadata": {
        "colab": {
          "base_uri": "https://localhost:8080/"
        },
        "id": "Mfpu25uh7fpr",
        "outputId": "892f1f9c-3a42-4a57-cdae-64e887786f8c"
      },
      "execution_count": 15,
      "outputs": [
        {
          "output_type": "execute_result",
          "data": {
            "text/plain": [
              "(18354, [432, 16, 1152, 8, 16384, 32, 320, 10])"
            ]
          },
          "metadata": {},
          "execution_count": 15
        },
        {
          "output_type": "stream",
          "name": "stdout",
          "text": [
            "time: 3.79 ms (started: 2023-12-13 10:04:04 +00:00)\n"
          ]
        }
      ]
    },
    {
      "cell_type": "code",
      "source": [
        "import datetime\n",
        "\n",
        "def training_loop(epochs, optimizer, model, loss_function, training_loader):\n",
        "    for epoch in range(1, epochs + 1):\n",
        "        training_loss = 0.0\n",
        "        for images, labels in training_loader:\n",
        "            images = images.to(device=device)  # <1>\n",
        "            labels = labels.to(device=device)\n",
        "            outputs = model(images)\n",
        "            loss = loss_function(outputs, labels)\n",
        "\n",
        "            optimizer.zero_grad()\n",
        "            loss.backward()\n",
        "            optimizer.step()\n",
        "\n",
        "            training_loss += loss.item()\n",
        "\n",
        "        if epoch == 1 or epoch % 2 == 0:\n",
        "            print('{} Epoch {}, Training loss {}'.format(\n",
        "                datetime.datetime.now(), epoch, training_loss/ len(training_loader)))"
      ],
      "metadata": {
        "colab": {
          "base_uri": "https://localhost:8080/"
        },
        "id": "a0ljs9ZC7jHL",
        "outputId": "cd1e8ef2-4eb1-416a-d6f7-1bda1e73e1d4"
      },
      "execution_count": 16,
      "outputs": [
        {
          "output_type": "stream",
          "name": "stdout",
          "text": [
            "time: 749 µs (started: 2023-12-13 10:04:07 +00:00)\n"
          ]
        }
      ]
    },
    {
      "cell_type": "code",
      "source": [
        "training_loader = torch.utils.data.DataLoader(cifar10, batch_size=64,\n",
        "                                           shuffle=True)\n",
        "\n",
        "model = Net().to(device=device)\n",
        "optimizer = optim.SGD(model.parameters(), lr=1e-2)\n",
        "loss_function = nn.CrossEntropyLoss()\n",
        "\n",
        "training_loop(\n",
        "    epochs = 300,\n",
        "    optimizer = optimizer,\n",
        "    model = model,\n",
        "    loss_function = loss_function,\n",
        "    training_loader = training_loader,\n",
        ")\n",
        ""
      ],
      "metadata": {
        "colab": {
          "base_uri": "https://localhost:8080/"
        },
        "id": "xsZ5BbxQ9C2u",
        "outputId": "dd055388-8438-4380-d5da-573c8058f4d5"
      },
      "execution_count": 19,
      "outputs": [
        {
          "output_type": "stream",
          "name": "stdout",
          "text": [
            "2023-12-13 10:05:22.507582 Epoch 1, Training loss 2.049105356111551\n",
            "2023-12-13 10:05:37.057762 Epoch 2, Training loss 1.7751374871224699\n",
            "2023-12-13 10:06:06.290883 Epoch 4, Training loss 1.5153167528264664\n",
            "2023-12-13 10:06:35.153349 Epoch 6, Training loss 1.3847457374758123\n",
            "2023-12-13 10:07:04.910032 Epoch 8, Training loss 1.263395033376601\n",
            "2023-12-13 10:07:33.873916 Epoch 10, Training loss 1.179178176404875\n",
            "2023-12-13 10:08:03.438858 Epoch 12, Training loss 1.121863442461204\n",
            "2023-12-13 10:08:33.260479 Epoch 14, Training loss 1.0802870764756751\n",
            "2023-12-13 10:09:02.518422 Epoch 16, Training loss 1.0482511693406897\n",
            "2023-12-13 10:09:31.475054 Epoch 18, Training loss 1.0205531751408297\n",
            "2023-12-13 10:10:02.095511 Epoch 20, Training loss 0.9982020632385293\n",
            "2023-12-13 10:10:30.926245 Epoch 22, Training loss 0.9794200098575534\n",
            "2023-12-13 10:11:00.788203 Epoch 24, Training loss 0.9626502136287787\n",
            "2023-12-13 10:11:30.529825 Epoch 26, Training loss 0.9463696685593451\n",
            "2023-12-13 10:11:59.778670 Epoch 28, Training loss 0.9332217741043062\n",
            "2023-12-13 10:12:29.003320 Epoch 30, Training loss 0.921333508113461\n",
            "2023-12-13 10:12:58.383866 Epoch 32, Training loss 0.9097429317281679\n",
            "2023-12-13 10:13:27.501649 Epoch 34, Training loss 0.9008496236770659\n",
            "2023-12-13 10:13:56.783547 Epoch 36, Training loss 0.8905539500438954\n",
            "2023-12-13 10:14:25.947455 Epoch 38, Training loss 0.8808999026522917\n",
            "2023-12-13 10:14:55.755649 Epoch 40, Training loss 0.8728813658589902\n",
            "2023-12-13 10:15:25.285456 Epoch 42, Training loss 0.8646150170384771\n",
            "2023-12-13 10:15:54.233585 Epoch 44, Training loss 0.8566297263364353\n",
            "2023-12-13 10:16:23.474877 Epoch 46, Training loss 0.8495368421306391\n",
            "2023-12-13 10:16:53.572723 Epoch 48, Training loss 0.8406623914037519\n",
            "2023-12-13 10:17:22.592779 Epoch 50, Training loss 0.8330104139912159\n",
            "2023-12-13 10:17:53.125926 Epoch 52, Training loss 0.8282093775013218\n",
            "2023-12-13 10:18:23.601062 Epoch 54, Training loss 0.8202515519640939\n",
            "2023-12-13 10:18:52.923723 Epoch 56, Training loss 0.81452620673515\n",
            "2023-12-13 10:19:22.245690 Epoch 58, Training loss 0.8077631995577337\n",
            "2023-12-13 10:19:52.293915 Epoch 60, Training loss 0.8018984548423601\n",
            "2023-12-13 10:20:21.718967 Epoch 62, Training loss 0.7965611330688457\n",
            "2023-12-13 10:20:51.750007 Epoch 64, Training loss 0.7911639934229424\n",
            "2023-12-13 10:21:21.683938 Epoch 66, Training loss 0.7855340275923004\n",
            "2023-12-13 10:21:50.854232 Epoch 68, Training loss 0.7794775415183334\n",
            "2023-12-13 10:22:20.173136 Epoch 70, Training loss 0.7742296095241976\n",
            "2023-12-13 10:22:50.964465 Epoch 72, Training loss 0.769601949416768\n",
            "2023-12-13 10:23:21.473017 Epoch 74, Training loss 0.7643117487354352\n",
            "2023-12-13 10:23:51.755885 Epoch 76, Training loss 0.7582263917950414\n",
            "2023-12-13 10:24:21.632246 Epoch 78, Training loss 0.7538705809646861\n",
            "2023-12-13 10:24:51.271258 Epoch 80, Training loss 0.7511899483097179\n",
            "2023-12-13 10:25:20.972472 Epoch 82, Training loss 0.7474888201107455\n",
            "2023-12-13 10:25:50.642244 Epoch 84, Training loss 0.7407168257419411\n",
            "2023-12-13 10:26:21.077098 Epoch 86, Training loss 0.7361354848460469\n",
            "2023-12-13 10:26:51.043884 Epoch 88, Training loss 0.7346556719078128\n",
            "2023-12-13 10:27:20.682493 Epoch 90, Training loss 0.7293619654138984\n",
            "2023-12-13 10:27:50.238409 Epoch 92, Training loss 0.7263725114524212\n",
            "2023-12-13 10:28:20.102845 Epoch 94, Training loss 0.7226812060531753\n",
            "2023-12-13 10:28:49.823892 Epoch 96, Training loss 0.7176969427891704\n",
            "2023-12-13 10:29:20.153374 Epoch 98, Training loss 0.714972998784936\n",
            "2023-12-13 10:29:49.556036 Epoch 100, Training loss 0.7095372226384594\n",
            "2023-12-13 10:30:19.223472 Epoch 102, Training loss 0.7059379083192562\n",
            "2023-12-13 10:30:48.932505 Epoch 104, Training loss 0.704678332752279\n",
            "2023-12-13 10:31:18.381918 Epoch 106, Training loss 0.700935868541603\n",
            "2023-12-13 10:31:47.832661 Epoch 108, Training loss 0.6968627273274199\n",
            "2023-12-13 10:32:18.172140 Epoch 110, Training loss 0.6948459962825946\n",
            "2023-12-13 10:32:48.083048 Epoch 112, Training loss 0.6915251715942416\n",
            "2023-12-13 10:33:17.551846 Epoch 114, Training loss 0.687862431873446\n",
            "2023-12-13 10:33:47.083949 Epoch 116, Training loss 0.6852444907664643\n",
            "2023-12-13 10:34:16.464609 Epoch 118, Training loss 0.6812656207005386\n",
            "2023-12-13 10:34:45.863838 Epoch 120, Training loss 0.6792352978530747\n",
            "2023-12-13 10:35:16.171881 Epoch 122, Training loss 0.6759896567258079\n",
            "2023-12-13 10:35:45.968372 Epoch 124, Training loss 0.6734524515583692\n",
            "2023-12-13 10:36:17.056415 Epoch 126, Training loss 0.668850537265658\n",
            "2023-12-13 10:36:47.212229 Epoch 128, Training loss 0.6678968839099645\n",
            "2023-12-13 10:37:16.920545 Epoch 130, Training loss 0.6677621569093841\n",
            "2023-12-13 10:37:46.846560 Epoch 132, Training loss 0.6630182363035734\n",
            "2023-12-13 10:38:17.685292 Epoch 134, Training loss 0.6597455339053707\n",
            "2023-12-13 10:38:47.742550 Epoch 136, Training loss 0.6588561049355265\n",
            "2023-12-13 10:39:17.520210 Epoch 138, Training loss 0.6554795882052473\n",
            "2023-12-13 10:39:47.310133 Epoch 140, Training loss 0.6515526048591375\n",
            "2023-12-13 10:40:16.796540 Epoch 142, Training loss 0.6497976415221344\n",
            "2023-12-13 10:40:46.263658 Epoch 144, Training loss 0.6483622892280979\n",
            "2023-12-13 10:41:16.568017 Epoch 146, Training loss 0.6453717837248312\n",
            "2023-12-13 10:41:45.839409 Epoch 148, Training loss 0.6448473711605267\n",
            "2023-12-13 10:42:15.170203 Epoch 150, Training loss 0.6417502007063698\n",
            "2023-12-13 10:42:44.778354 Epoch 152, Training loss 0.6378656510273208\n",
            "2023-12-13 10:43:14.021418 Epoch 154, Training loss 0.6367690114642653\n",
            "2023-12-13 10:43:43.602254 Epoch 156, Training loss 0.6355818153723426\n",
            "2023-12-13 10:44:13.905113 Epoch 158, Training loss 0.6323739958693609\n",
            "2023-12-13 10:44:43.832025 Epoch 160, Training loss 0.6301837058552086\n",
            "2023-12-13 10:45:13.204016 Epoch 162, Training loss 0.6284945207407407\n",
            "2023-12-13 10:45:42.878111 Epoch 164, Training loss 0.6297537101351697\n",
            "2023-12-13 10:46:12.814104 Epoch 166, Training loss 0.6247256363139433\n",
            "2023-12-13 10:46:42.079101 Epoch 168, Training loss 0.623558062002482\n",
            "2023-12-13 10:47:12.169509 Epoch 170, Training loss 0.6209095888735389\n",
            "2023-12-13 10:47:41.818744 Epoch 172, Training loss 0.6189566074734758\n",
            "2023-12-13 10:48:11.029840 Epoch 174, Training loss 0.6179727793425855\n",
            "2023-12-13 10:48:40.540932 Epoch 176, Training loss 0.6161173988714852\n",
            "2023-12-13 10:49:11.657764 Epoch 178, Training loss 0.613564624848878\n",
            "2023-12-13 10:49:41.716399 Epoch 180, Training loss 0.6114910997621849\n",
            "2023-12-13 10:50:11.323155 Epoch 182, Training loss 0.6095001755468071\n",
            "2023-12-13 10:50:40.722376 Epoch 184, Training loss 0.6084548910255627\n",
            "2023-12-13 10:51:09.882962 Epoch 186, Training loss 0.6074195011802341\n",
            "2023-12-13 10:51:39.190754 Epoch 188, Training loss 0.6033966744418644\n",
            "2023-12-13 10:52:08.831163 Epoch 190, Training loss 0.6030086882202826\n",
            "2023-12-13 10:52:38.592126 Epoch 192, Training loss 0.6009233915211295\n",
            "2023-12-13 10:53:09.152912 Epoch 194, Training loss 0.600094463209362\n",
            "2023-12-13 10:53:39.152971 Epoch 196, Training loss 0.5986651869686058\n",
            "2023-12-13 10:54:09.180950 Epoch 198, Training loss 0.5981242367068825\n",
            "2023-12-13 10:54:38.645808 Epoch 200, Training loss 0.5945172698601432\n",
            "2023-12-13 10:55:08.484273 Epoch 202, Training loss 0.5939239552030173\n",
            "2023-12-13 10:55:38.262949 Epoch 204, Training loss 0.5950770538938625\n",
            "2023-12-13 10:56:08.567637 Epoch 206, Training loss 0.5903329080937768\n",
            "2023-12-13 10:56:37.875993 Epoch 208, Training loss 0.5885501553106796\n",
            "2023-12-13 10:57:07.347718 Epoch 210, Training loss 0.5878061860266244\n",
            "2023-12-13 10:57:36.436021 Epoch 212, Training loss 0.5854625244198552\n",
            "2023-12-13 10:58:06.401308 Epoch 214, Training loss 0.5856958091106561\n",
            "2023-12-13 10:58:36.058123 Epoch 216, Training loss 0.5858830883908455\n",
            "2023-12-13 10:59:06.630661 Epoch 218, Training loss 0.5849222958545246\n",
            "2023-12-13 10:59:36.475275 Epoch 220, Training loss 0.5818065412895149\n",
            "2023-12-13 11:00:06.353743 Epoch 222, Training loss 0.5783136900123733\n",
            "2023-12-13 11:00:35.728642 Epoch 224, Training loss 0.5776193782572856\n",
            "2023-12-13 11:01:05.505636 Epoch 226, Training loss 0.5772426996160956\n",
            "2023-12-13 11:01:35.745489 Epoch 228, Training loss 0.5758196892564559\n",
            "2023-12-13 11:02:08.119987 Epoch 230, Training loss 0.5742918025044834\n",
            "2023-12-13 11:02:37.804771 Epoch 232, Training loss 0.5739895872142918\n",
            "2023-12-13 11:03:07.108230 Epoch 234, Training loss 0.5703355220272718\n",
            "2023-12-13 11:03:36.115174 Epoch 236, Training loss 0.5699585955542372\n",
            "2023-12-13 11:04:05.467232 Epoch 238, Training loss 0.5684716620332445\n",
            "2023-12-13 11:04:34.894090 Epoch 240, Training loss 0.5697791746929478\n",
            "2023-12-13 11:05:04.804573 Epoch 242, Training loss 0.5666663033501876\n",
            "2023-12-13 11:05:34.182715 Epoch 244, Training loss 0.5672724908956176\n",
            "2023-12-13 11:06:03.170599 Epoch 246, Training loss 0.5634025246514689\n",
            "2023-12-13 11:06:32.390842 Epoch 248, Training loss 0.563420036907696\n",
            "2023-12-13 11:07:02.034093 Epoch 250, Training loss 0.5620136595214419\n",
            "2023-12-13 11:07:30.580918 Epoch 252, Training loss 0.5605719021290464\n",
            "2023-12-13 11:07:59.223905 Epoch 254, Training loss 0.5590099390510403\n",
            "2023-12-13 11:08:27.674651 Epoch 256, Training loss 0.5581441252204158\n",
            "2023-12-13 11:08:56.243317 Epoch 258, Training loss 0.5585922616369584\n",
            "2023-12-13 11:09:25.568754 Epoch 260, Training loss 0.5552311434084193\n",
            "2023-12-13 11:09:53.914890 Epoch 262, Training loss 0.5557227662914549\n",
            "2023-12-13 11:10:22.273376 Epoch 264, Training loss 0.5552572188398722\n",
            "2023-12-13 11:10:51.548222 Epoch 266, Training loss 0.5519989331626831\n",
            "2023-12-13 11:11:19.978509 Epoch 268, Training loss 0.5505568539852377\n",
            "2023-12-13 11:11:48.601632 Epoch 270, Training loss 0.5498185492385074\n",
            "2023-12-13 11:12:17.662488 Epoch 272, Training loss 0.549792828576644\n",
            "2023-12-13 11:12:46.128954 Epoch 274, Training loss 0.5479822270095805\n",
            "2023-12-13 11:13:14.121061 Epoch 276, Training loss 0.5465691372028092\n",
            "2023-12-13 11:13:42.836298 Epoch 278, Training loss 0.5462482327885945\n",
            "2023-12-13 11:14:10.947079 Epoch 280, Training loss 0.5472594154689013\n",
            "2023-12-13 11:14:39.606149 Epoch 282, Training loss 0.5430204852119737\n",
            "2023-12-13 11:15:09.506115 Epoch 284, Training loss 0.5428154651847337\n",
            "2023-12-13 11:15:37.852359 Epoch 286, Training loss 0.5444426173368073\n",
            "2023-12-13 11:16:06.387711 Epoch 288, Training loss 0.5426367010416278\n",
            "2023-12-13 11:16:35.163914 Epoch 290, Training loss 0.5409008850679373\n",
            "2023-12-13 11:17:03.361494 Epoch 292, Training loss 0.539364427937876\n",
            "2023-12-13 11:17:31.621605 Epoch 294, Training loss 0.5396528384264778\n",
            "2023-12-13 11:18:00.117598 Epoch 296, Training loss 0.5385619381733258\n",
            "2023-12-13 11:18:28.124583 Epoch 298, Training loss 0.5387485674427598\n",
            "2023-12-13 11:18:56.623874 Epoch 300, Training loss 0.5375595800864422\n",
            "time: 1h 13min 49s (started: 2023-12-13 10:05:06 +00:00)\n"
          ]
        }
      ]
    },
    {
      "cell_type": "code",
      "source": [
        "\n",
        "import collections\n",
        "train_loader = torch.utils.data.DataLoader(cifar10, batch_size=64,\n",
        "                                           shuffle=False)\n",
        "val_loader = torch.utils.data.DataLoader(cifar10_testing, batch_size=64,\n",
        "                                         shuffle=False)\n",
        "all_acc_dict = collections.OrderedDict()\n",
        "\n",
        "def validate(model, train_loader, val_loader):\n",
        "    accdict = {}\n",
        "    predictions = []\n",
        "    expected_labels = []\n",
        "\n",
        "    for name, loader in [(\"train\", train_loader), (\"val\", val_loader)]:\n",
        "        correct = 0\n",
        "        total = 0\n",
        "\n",
        "        with torch.no_grad():\n",
        "            for imgs, labels in loader:\n",
        "                imgs = imgs.to(device=device)\n",
        "                labels = labels.to(device=device)\n",
        "                outputs = model(imgs)\n",
        "                _, predicted = torch.max(outputs, dim=1) # <1>\n",
        "                total += labels.shape[0]\n",
        "                correct += int((predicted == labels).sum())\n",
        "\n",
        "                predictions.extend(predicted.cpu().numpy())\n",
        "                expected_labels.extend(labels.cpu().numpy())\n",
        "\n",
        "        print(\"Accuracy {}: {:.2f}\".format(name , correct / total))\n",
        "        accdict[name] = correct / total\n",
        "    return accdict, predictions, expected_labels"
      ],
      "metadata": {
        "colab": {
          "base_uri": "https://localhost:8080/"
        },
        "id": "iUhBEuLxsGhL",
        "outputId": "d97428b8-5a6b-492b-f2a8-d9372d5563e7"
      },
      "execution_count": 20,
      "outputs": [
        {
          "output_type": "stream",
          "name": "stdout",
          "text": [
            "time: 1.81 ms (started: 2023-12-13 11:19:04 +00:00)\n"
          ]
        }
      ]
    },
    {
      "cell_type": "code",
      "source": [
        "accuracy, predictions, expected_labels = validate(model, training_loader, testing_loader)"
      ],
      "metadata": {
        "colab": {
          "base_uri": "https://localhost:8080/"
        },
        "id": "9AOUVa1jsWEt",
        "outputId": "6f6df580-d19c-41cc-d233-d36aa4e6d7eb"
      },
      "execution_count": 21,
      "outputs": [
        {
          "output_type": "stream",
          "name": "stdout",
          "text": [
            "Accuracy train: 0.81\n",
            "Accuracy val: 0.61\n",
            "time: 24.5 s (started: 2023-12-13 11:19:08 +00:00)\n"
          ]
        }
      ]
    },
    {
      "cell_type": "code",
      "source": [
        "print(classification_report(predictions, expected_labels, target_names=class_names))"
      ],
      "metadata": {
        "colab": {
          "base_uri": "https://localhost:8080/"
        },
        "id": "QZrkaxMOsjz_",
        "outputId": "e65fd3a8-86bd-4a64-c511-ec3c4127ec78"
      },
      "execution_count": 22,
      "outputs": [
        {
          "output_type": "stream",
          "name": "stdout",
          "text": [
            "              precision    recall  f1-score   support\n",
            "\n",
            "    airplane       0.82      0.80      0.81      6155\n",
            "  automobile       0.90      0.85      0.88      6338\n",
            "        bird       0.70      0.68      0.69      6128\n",
            "         cat       0.56      0.67      0.61      5014\n",
            "        deer       0.73      0.74      0.74      5874\n",
            "         dog       0.71      0.68      0.70      6269\n",
            "        frog       0.83      0.82      0.82      6103\n",
            "       horse       0.82      0.81      0.81      6023\n",
            "        ship       0.87      0.84      0.86      6257\n",
            "       truck       0.84      0.86      0.85      5839\n",
            "\n",
            "    accuracy                           0.78     60000\n",
            "   macro avg       0.78      0.78      0.78     60000\n",
            "weighted avg       0.78      0.78      0.78     60000\n",
            "\n",
            "time: 150 ms (started: 2023-12-13 11:19:44 +00:00)\n"
          ]
        }
      ]
    },
    {
      "cell_type": "code",
      "source": [
        "precision = precision_score(predictions, expected_labels, average='macro')\n",
        "recall = recall_score(predictions, expected_labels, average='macro')\n",
        "confus_matrix = confusion_matrix(predictions, expected_labels)\n",
        ""
      ],
      "metadata": {
        "colab": {
          "base_uri": "https://localhost:8080/"
        },
        "id": "xYz_QUc9soFo",
        "outputId": "3de1ad28-f7c2-4040-aa5d-5f01e9cd3e09"
      },
      "execution_count": 23,
      "outputs": [
        {
          "output_type": "stream",
          "name": "stdout",
          "text": [
            "time: 164 ms (started: 2023-12-13 11:19:49 +00:00)\n"
          ]
        }
      ]
    },
    {
      "cell_type": "code",
      "source": [
        "plt.figure(figsize=(8, 6))\n",
        "sns.heatmap(confus_matrix, annot=True, cmap=\"viridis\", fmt='g',\n",
        "            xticklabels=class_names, yticklabels=class_names)\n",
        "plt.title('Confusion Matrix for 2-Layer Convolutional Network')\n",
        "plt.ylabel('True Label')\n",
        "plt.xlabel('Predicted Label')\n",
        "plt.xticks(rotation=45)\n",
        "plt.yticks(rotation=45)\n",
        "\n",
        "plt.show()\n",
        "\n"
      ],
      "metadata": {
        "colab": {
          "base_uri": "https://localhost:8080/",
          "height": 633
        },
        "id": "gnairikqsy2-",
        "outputId": "b9890a7a-ffc4-4f8e-e165-c6763faac34a"
      },
      "execution_count": 24,
      "outputs": [
        {
          "output_type": "display_data",
          "data": {
            "text/plain": [
              "<Figure size 800x600 with 2 Axes>"
            ],
            "image/png": "[encoded data removed]"
          },
          "metadata": {}
        },
        {
          "output_type": "stream",
          "name": "stdout",
          "text": [
            "time: 513 ms (started: 2023-12-13 11:19:53 +00:00)\n"
          ]
        }
      ]
    },
    {
      "cell_type": "markdown",
      "source": [
        "Problem 1)b)"
      ],
      "metadata": {
        "id": "DvNGhqK0t6qT"
      }
    },
    {
      "cell_type": "code",
      "source": [
        "class Net2(nn.Module):\n",
        "    def __init__(self):\n",
        "        super().__init__()\n",
        "        self.conv1 = nn.Conv2d(3, 16, kernel_size=3, padding=1)\n",
        "        self.act1 = nn.Tanh()\n",
        "        self.pool1 = nn.MaxPool2d(2)\n",
        "        self.conv2 = nn.Conv2d(16, 8, kernel_size=3, padding=1)\n",
        "        self.act2 = nn.Tanh()\n",
        "        self.pool2 = nn.MaxPool2d(2)\n",
        "        self.conv3 = nn.Conv2d(8, 4, kernel_size=3, padding=1)\n",
        "        self.act3 = nn.Tanh()\n",
        "        self.pool3 = nn.MaxPool2d(2)\n",
        "        self.fc1 = nn.Linear(4 * 4 * 4, 32)\n",
        "        self.act4 = nn.Tanh()\n",
        "        self.fc2 = nn.Linear(32, 10)\n",
        "\n",
        "    def forward(self, x):\n",
        "        out = self.pool1(self.act1(self.conv1(x)))\n",
        "        out = self.pool2(self.act2(self.conv2(out)))\n",
        "        out = self.pool3(self.act3(self.conv3(out)))\n",
        "        out = out.view(-1, 4 * 4 * 4)\n",
        "        out = self.act4(self.fc1(out))\n",
        "        out = self.fc2(out)\n",
        "        return out\n"
      ],
      "metadata": {
        "colab": {
          "base_uri": "https://localhost:8080/"
        },
        "id": "a4MuZMLrt1Le",
        "outputId": "383915c4-d53d-4e7b-d19d-21f3bc3cc691"
      },
      "execution_count": 22,
      "outputs": [
        {
          "output_type": "stream",
          "name": "stdout",
          "text": [
            "time: 9.78 ms (started: 2023-12-13 04:31:17 +00:00)\n"
          ]
        }
      ]
    },
    {
      "cell_type": "code",
      "source": [
        "model2 = Net2().to(device)"
      ],
      "metadata": {
        "colab": {
          "base_uri": "https://localhost:8080/"
        },
        "id": "ObWpjkmft-ZT",
        "outputId": "6c7ba8bc-2216-486a-8464-949805bc431b"
      },
      "execution_count": 23,
      "outputs": [
        {
          "output_type": "stream",
          "name": "stdout",
          "text": [
            "time: 4.19 ms (started: 2023-12-13 04:31:20 +00:00)\n"
          ]
        }
      ]
    },
    {
      "cell_type": "code",
      "source": [
        "numel_list = [p.numel() for p in model.parameters()]\n",
        "sum(numel_list), numel_list"
      ],
      "metadata": {
        "colab": {
          "base_uri": "https://localhost:8080/"
        },
        "id": "D6HOShLPuCCO",
        "outputId": "5ff12a42-f93a-4687-8a64-9816cda36f0c"
      },
      "execution_count": 24,
      "outputs": [
        {
          "output_type": "execute_result",
          "data": {
            "text/plain": [
              "(18354, [432, 16, 1152, 8, 16384, 32, 320, 10])"
            ]
          },
          "metadata": {},
          "execution_count": 24
        },
        {
          "output_type": "stream",
          "name": "stdout",
          "text": [
            "time: 11.9 ms (started: 2023-12-13 04:31:22 +00:00)\n"
          ]
        }
      ]
    },
    {
      "cell_type": "code",
      "source": [
        "training_loader = torch.utils.data.DataLoader(cifar10, batch_size=64,\n",
        "                                           shuffle=True)\n",
        "\n",
        "model2 = Net2().to(device=device)\n",
        "optimizer2 = optim.SGD(model2.parameters(), lr=1e-2)\n",
        "loss_function = nn.CrossEntropyLoss()\n",
        "\n",
        "training_loop(\n",
        "    epochs = 300,\n",
        "    optimizer = optimizer2,\n",
        "    model = model2,\n",
        "    loss_function = loss_function,\n",
        "    training_loader = training_loader,\n",
        ")"
      ],
      "metadata": {
        "colab": {
          "base_uri": "https://localhost:8080/"
        },
        "id": "adGVcEAJuEgz",
        "outputId": "bb5dd3ea-12dc-4ea8-d390-235c8e8e8257"
      },
      "execution_count": 25,
      "outputs": [
        {
          "output_type": "stream",
          "name": "stdout",
          "text": [
            "2023-12-13 04:31:44.770158 Epoch 1, Training loss 2.22520933081122\n",
            "2023-12-13 04:32:03.233165 Epoch 2, Training loss 2.0232581310260023\n",
            "2023-12-13 04:32:38.073532 Epoch 4, Training loss 1.7762009865792512\n",
            "2023-12-13 04:33:15.627472 Epoch 6, Training loss 1.564370776076451\n",
            "2023-12-13 04:33:50.333716 Epoch 8, Training loss 1.4571027211520984\n",
            "2023-12-13 04:34:26.307014 Epoch 10, Training loss 1.384469603943398\n",
            "2023-12-13 04:35:00.948289 Epoch 12, Training loss 1.3312959722088427\n",
            "2023-12-13 04:35:36.851875 Epoch 14, Training loss 1.294299049907938\n",
            "2023-12-13 04:36:11.850836 Epoch 16, Training loss 1.2623136932282801\n",
            "2023-12-13 04:36:47.973269 Epoch 18, Training loss 1.2349525555167966\n",
            "2023-12-13 04:37:22.645281 Epoch 20, Training loss 1.2109281624979376\n",
            "2023-12-13 04:37:58.295561 Epoch 22, Training loss 1.1885659151217516\n",
            "2023-12-13 04:38:32.884483 Epoch 24, Training loss 1.1705702875581239\n",
            "2023-12-13 04:39:08.304631 Epoch 26, Training loss 1.1527944483872874\n",
            "2023-12-13 04:39:43.861709 Epoch 28, Training loss 1.1383811088321765\n",
            "2023-12-13 04:40:21.064185 Epoch 30, Training loss 1.1230037366337788\n",
            "2023-12-13 04:40:55.457941 Epoch 32, Training loss 1.1122122489277968\n",
            "2023-12-13 04:41:30.897898 Epoch 34, Training loss 1.10050572123369\n",
            "2023-12-13 04:42:05.789716 Epoch 36, Training loss 1.0896787439160944\n",
            "2023-12-13 04:42:40.790448 Epoch 38, Training loss 1.0807958409914276\n",
            "2023-12-13 04:43:15.435701 Epoch 40, Training loss 1.071187760137841\n",
            "2023-12-13 04:43:49.133231 Epoch 42, Training loss 1.0633506165136157\n",
            "2023-12-13 04:44:23.775868 Epoch 44, Training loss 1.0565474589767359\n",
            "2023-12-13 04:44:57.492742 Epoch 46, Training loss 1.0498796526885703\n",
            "2023-12-13 04:45:31.495455 Epoch 48, Training loss 1.0436515864508842\n",
            "2023-12-13 04:46:05.729612 Epoch 50, Training loss 1.0383104906057763\n",
            "2023-12-13 04:46:39.115378 Epoch 52, Training loss 1.0331340064782926\n",
            "2023-12-13 04:47:13.831542 Epoch 54, Training loss 1.0272957158972844\n",
            "2023-12-13 04:47:47.017238 Epoch 56, Training loss 1.0243728432204107\n",
            "2023-12-13 04:48:20.192999 Epoch 58, Training loss 1.0174462808977307\n",
            "2023-12-13 04:48:53.765378 Epoch 60, Training loss 1.015389926979304\n",
            "2023-12-13 04:49:26.026262 Epoch 62, Training loss 1.010694908592707\n",
            "2023-12-13 04:49:58.090202 Epoch 64, Training loss 1.0065350704028477\n",
            "2023-12-13 04:50:31.358265 Epoch 66, Training loss 1.0040345780379938\n",
            "2023-12-13 04:51:03.428817 Epoch 68, Training loss 0.999400866839587\n",
            "2023-12-13 04:51:35.823965 Epoch 70, Training loss 0.9950540017746293\n",
            "2023-12-13 04:52:09.651248 Epoch 72, Training loss 0.9947379052334124\n",
            "2023-12-13 04:52:42.387396 Epoch 74, Training loss 0.9918147120481867\n",
            "2023-12-13 04:53:14.841802 Epoch 76, Training loss 0.9884525765390957\n",
            "2023-12-13 04:53:48.563313 Epoch 78, Training loss 0.9863278217175427\n",
            "2023-12-13 04:54:20.773742 Epoch 80, Training loss 0.9825853702357358\n",
            "2023-12-13 04:54:52.383270 Epoch 82, Training loss 0.9807065375473188\n",
            "2023-12-13 04:55:25.706307 Epoch 84, Training loss 0.9776277822606704\n",
            "2023-12-13 04:55:56.996710 Epoch 86, Training loss 0.9762351540348414\n",
            "2023-12-13 04:56:28.128246 Epoch 88, Training loss 0.9734984405357819\n",
            "2023-12-13 04:56:59.753022 Epoch 90, Training loss 0.9711714740604391\n",
            "2023-12-13 04:57:32.191767 Epoch 92, Training loss 0.9691087371857879\n",
            "2023-12-13 04:58:03.899042 Epoch 94, Training loss 0.9664498698680907\n",
            "2023-12-13 04:58:35.059185 Epoch 96, Training loss 0.9645643241112799\n",
            "2023-12-13 04:59:06.624250 Epoch 98, Training loss 0.9610558744434201\n",
            "2023-12-13 04:59:39.218502 Epoch 100, Training loss 0.9601337802989404\n",
            "2023-12-13 05:00:10.261717 Epoch 102, Training loss 0.9581120802313471\n",
            "2023-12-13 05:00:41.643130 Epoch 104, Training loss 0.9565864339508974\n",
            "2023-12-13 05:01:15.373729 Epoch 106, Training loss 0.955047725792736\n",
            "2023-12-13 05:01:48.888071 Epoch 108, Training loss 0.9531080639347091\n",
            "2023-12-13 05:02:23.110901 Epoch 110, Training loss 0.95170626006163\n",
            "2023-12-13 05:02:57.889843 Epoch 112, Training loss 0.9508704898302512\n",
            "2023-12-13 05:03:30.683160 Epoch 114, Training loss 0.9483696398375284\n",
            "2023-12-13 05:04:03.236990 Epoch 116, Training loss 0.9467545407050101\n",
            "2023-12-13 05:04:36.386229 Epoch 118, Training loss 0.9444355867860262\n",
            "2023-12-13 05:05:10.304988 Epoch 120, Training loss 0.9429240883768671\n",
            "2023-12-13 05:05:45.667339 Epoch 122, Training loss 0.9419173576947674\n",
            "2023-12-13 05:06:20.160348 Epoch 124, Training loss 0.9410387726543504\n",
            "2023-12-13 05:06:55.519878 Epoch 126, Training loss 0.9384491832359977\n",
            "2023-12-13 05:07:31.066178 Epoch 128, Training loss 0.938725091459806\n",
            "2023-12-13 05:08:05.722009 Epoch 130, Training loss 0.9347340104067722\n",
            "2023-12-13 05:08:40.837348 Epoch 132, Training loss 0.9362893039003357\n",
            "2023-12-13 05:09:16.464372 Epoch 134, Training loss 0.9330567724412054\n",
            "2023-12-13 05:09:53.457271 Epoch 136, Training loss 0.9317870931247311\n",
            "2023-12-13 05:10:27.557985 Epoch 138, Training loss 0.9304358871544108\n",
            "2023-12-13 05:11:04.386289 Epoch 140, Training loss 0.928335798899536\n",
            "2023-12-13 05:11:38.496772 Epoch 142, Training loss 0.9272062486547339\n",
            "2023-12-13 05:12:15.091127 Epoch 144, Training loss 0.9275363230949167\n",
            "2023-12-13 05:12:48.998962 Epoch 146, Training loss 0.9261867765270536\n",
            "2023-12-13 05:13:23.675491 Epoch 148, Training loss 0.9241372085440799\n",
            "2023-12-13 05:13:59.719029 Epoch 150, Training loss 0.9232812076425918\n",
            "2023-12-13 05:14:32.866254 Epoch 152, Training loss 0.9235613130395065\n",
            "2023-12-13 05:15:09.416657 Epoch 154, Training loss 0.9198416966154143\n",
            "2023-12-13 05:15:43.404135 Epoch 156, Training loss 0.9211565669997573\n",
            "2023-12-13 05:16:17.450017 Epoch 158, Training loss 0.9187010822393705\n",
            "2023-12-13 05:16:53.992439 Epoch 160, Training loss 0.9178366671742686\n",
            "2023-12-13 05:17:27.819914 Epoch 162, Training loss 0.9165829013833\n",
            "2023-12-13 05:18:03.454939 Epoch 164, Training loss 0.9159768053790187\n",
            "2023-12-13 05:18:39.329544 Epoch 166, Training loss 0.9147585550385058\n",
            "2023-12-13 05:19:14.440547 Epoch 168, Training loss 0.9133620376477156\n",
            "2023-12-13 05:19:50.300798 Epoch 170, Training loss 0.9142931690606315\n",
            "2023-12-13 05:20:26.180717 Epoch 172, Training loss 0.9110679972507155\n",
            "2023-12-13 05:20:59.907510 Epoch 174, Training loss 0.9115909587239366\n",
            "2023-12-13 05:21:35.331885 Epoch 176, Training loss 0.9103773064015771\n",
            "2023-12-13 05:22:09.546176 Epoch 178, Training loss 0.9082797394536645\n",
            "2023-12-13 05:22:45.058020 Epoch 180, Training loss 0.9102105626364803\n",
            "2023-12-13 05:23:19.578471 Epoch 182, Training loss 0.9080336625161378\n",
            "2023-12-13 05:23:54.671791 Epoch 184, Training loss 0.9065605565867461\n",
            "2023-12-13 05:24:27.977668 Epoch 186, Training loss 0.9055968902604964\n",
            "2023-12-13 05:25:04.073468 Epoch 188, Training loss 0.9057520666085851\n",
            "2023-12-13 05:25:36.562116 Epoch 190, Training loss 0.9052057257088859\n",
            "2023-12-13 05:26:09.497951 Epoch 192, Training loss 0.9033260719702981\n",
            "2023-12-13 05:26:45.936415 Epoch 194, Training loss 0.9038409388736081\n",
            "2023-12-13 05:27:19.284268 Epoch 196, Training loss 0.9021296611679789\n",
            "2023-12-13 05:27:53.162128 Epoch 198, Training loss 0.9003599831057937\n",
            "2023-12-13 05:28:29.273116 Epoch 200, Training loss 0.8993171008346635\n",
            "2023-12-13 05:29:02.276477 Epoch 202, Training loss 0.9006458655800051\n",
            "2023-12-13 05:29:38.521208 Epoch 204, Training loss 0.8976296550401336\n",
            "2023-12-13 05:30:12.590442 Epoch 206, Training loss 0.8979975508759394\n",
            "2023-12-13 05:30:45.548015 Epoch 208, Training loss 0.897797299467999\n",
            "2023-12-13 05:31:19.837775 Epoch 210, Training loss 0.8985274543847575\n",
            "2023-12-13 05:31:55.491364 Epoch 212, Training loss 0.8946244896906416\n",
            "2023-12-13 05:32:28.683184 Epoch 214, Training loss 0.8954172876789747\n",
            "2023-12-13 05:33:03.884845 Epoch 216, Training loss 0.8946019352397041\n",
            "2023-12-13 05:33:38.065658 Epoch 218, Training loss 0.8937829585026598\n",
            "2023-12-13 05:34:13.844148 Epoch 220, Training loss 0.8935474505662309\n",
            "2023-12-13 05:34:47.956444 Epoch 222, Training loss 0.8933431327038104\n",
            "2023-12-13 05:35:23.080381 Epoch 224, Training loss 0.8931022245255883\n",
            "2023-12-13 05:35:57.043055 Epoch 226, Training loss 0.8918848266382047\n",
            "2023-12-13 05:36:30.478198 Epoch 228, Training loss 0.8918846543792569\n",
            "2023-12-13 05:37:05.048877 Epoch 230, Training loss 0.8925802793039386\n",
            "2023-12-13 05:37:38.590505 Epoch 232, Training loss 0.8895923170592169\n",
            "2023-12-13 05:38:13.497413 Epoch 234, Training loss 0.888539036292859\n",
            "2023-12-13 05:38:46.816719 Epoch 236, Training loss 0.8894482219158231\n",
            "2023-12-13 05:39:20.151913 Epoch 238, Training loss 0.8889723251695218\n",
            "2023-12-13 05:39:54.495293 Epoch 240, Training loss 0.8881414890517969\n",
            "2023-12-13 05:40:27.370074 Epoch 242, Training loss 0.8883028084512257\n",
            "2023-12-13 05:41:01.376895 Epoch 244, Training loss 0.884367574053957\n",
            "2023-12-13 05:41:34.041408 Epoch 246, Training loss 0.8870050670088404\n",
            "2023-12-13 05:42:06.100551 Epoch 248, Training loss 0.8853776041808945\n",
            "2023-12-13 05:42:38.527967 Epoch 250, Training loss 0.8849101122992727\n",
            "2023-12-13 05:43:12.492973 Epoch 252, Training loss 0.8836397697096285\n",
            "2023-12-13 05:43:43.285592 Epoch 254, Training loss 0.8830660665431596\n",
            "2023-12-13 05:44:14.383043 Epoch 256, Training loss 0.8824461690910027\n",
            "2023-12-13 05:44:46.479466 Epoch 258, Training loss 0.8827660023556341\n",
            "2023-12-13 05:45:19.101746 Epoch 260, Training loss 0.8830319157494303\n",
            "2023-12-13 05:45:50.908993 Epoch 262, Training loss 0.8811168135584467\n",
            "2023-12-13 05:46:22.583704 Epoch 264, Training loss 0.8830346962832429\n",
            "2023-12-13 05:46:55.717415 Epoch 266, Training loss 0.8810046668857565\n",
            "2023-12-13 05:47:27.779363 Epoch 268, Training loss 0.8814296300911233\n",
            "2023-12-13 05:47:59.761434 Epoch 270, Training loss 0.8795243970420964\n",
            "2023-12-13 05:48:31.814083 Epoch 272, Training loss 0.8793553709221618\n",
            "2023-12-13 05:49:03.272395 Epoch 274, Training loss 0.877859634206728\n",
            "2023-12-13 05:49:34.355864 Epoch 276, Training loss 0.8786573204619196\n",
            "2023-12-13 05:50:05.307568 Epoch 278, Training loss 0.8770122070751531\n",
            "2023-12-13 05:50:36.767442 Epoch 280, Training loss 0.8769029650236945\n",
            "2023-12-13 05:51:07.713060 Epoch 282, Training loss 0.8759276935511537\n",
            "2023-12-13 05:51:38.417734 Epoch 284, Training loss 0.8763167031509492\n",
            "2023-12-13 05:52:08.803684 Epoch 286, Training loss 0.8747700191367312\n",
            "2023-12-13 05:52:38.863057 Epoch 288, Training loss 0.8748338090641724\n",
            "2023-12-13 05:53:10.820022 Epoch 290, Training loss 0.8750743796605893\n",
            "2023-12-13 05:53:41.198731 Epoch 292, Training loss 0.8738857715026193\n",
            "2023-12-13 05:54:11.514915 Epoch 294, Training loss 0.8743973311865726\n",
            "2023-12-13 05:54:43.091345 Epoch 296, Training loss 0.874800557675569\n",
            "2023-12-13 05:55:17.359371 Epoch 298, Training loss 0.872738389484108\n",
            "2023-12-13 05:55:48.217904 Epoch 300, Training loss 0.8725478508893181\n",
            "time: 1h 24min 23s (started: 2023-12-13 04:31:24 +00:00)\n"
          ]
        }
      ]
    }
  ],
  "metadata": {
    "colab": {
      "toc_visible": true,
      "provenance": [],
      "gpuType": "T4",
      "include_colab_link": true
    },
    "kernelspec": {
      "display_name": "Python 3",
      "name": "python3"
    },
    "accelerator": "GPU"
  },
  "nbformat": 4,
  "nbformat_minor": 0
}